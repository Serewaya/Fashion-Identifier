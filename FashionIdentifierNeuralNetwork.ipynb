{
  "nbformat": 4,
  "nbformat_minor": 0,
  "metadata": {
    "colab": {
      "name": "FashionIdentifierNeuralNetwork.ipynb",
      "provenance": [],
      "include_colab_link": true
    },
    "kernelspec": {
      "name": "python3",
      "display_name": "Python 3"
    }
  },
  "cells": [
    {
      "cell_type": "markdown",
      "metadata": {
        "id": "view-in-github",
        "colab_type": "text"
      },
      "source": [
        "<a href=\"https://colab.research.google.com/github/Serewaya/Fashion-Identifier/blob/main/FashionIdentifierNeuralNetwork.ipynb\" target=\"_parent\"><img src=\"https://colab.research.google.com/assets/colab-badge.svg\" alt=\"Open In Colab\"/></a>"
      ]
    },
    {
      "cell_type": "code",
      "metadata": {
        "id": "9MHu6ap2usI_"
      },
      "source": [
        "import keras                               # deep learning package\n",
        "from keras.datasets import fashion_mnist           # dataset we will use to train our model\n",
        "from keras.layers import Dense             # Dense describes how the layers are connected\n",
        "from keras.models import Sequential        # Sequential means we are creating a sequence of connectec layers\n",
        "from tensorflow.keras.optimizers import SGD\n",
        "           # Sochastic gradient descent is the method used to find local minimum\n",
        "import matplotlib.pyplot as plt            # visualize images\n",
        "from keras.preprocessing import image      # preprocess images\n",
        "import numpy as np\n",
        "from keras import utils as np_utils\n",
        "#import tensorflowjs as tfjs"
      ],
      "execution_count": null,
      "outputs": []
    },
    {
      "cell_type": "markdown",
      "source": [
        ""
      ],
      "metadata": {
        "id": "F4f7s9MkhVnf"
      }
    },
    {
      "cell_type": "code",
      "metadata": {
        "id": "yE1uiHxXzsud",
        "colab": {
          "base_uri": "https://localhost:8080/"
        },
        "outputId": "3f7d7dc9-d302-40f4-c8a4-989d2936f117"
      },
      "source": [
        "(train_x, train_y), (test_x, test_y) = fashion_mnist.load_data()"
      ],
      "execution_count": null,
      "outputs": [
        {
          "output_type": "stream",
          "name": "stdout",
          "text": [
            "Downloading data from https://storage.googleapis.com/tensorflow/tf-keras-datasets/train-labels-idx1-ubyte.gz\n",
            "32768/29515 [=================================] - 0s 1us/step\n",
            "40960/29515 [=========================================] - 0s 1us/step\n",
            "Downloading data from https://storage.googleapis.com/tensorflow/tf-keras-datasets/train-images-idx3-ubyte.gz\n",
            "26427392/26421880 [==============================] - 1s 0us/step\n",
            "26435584/26421880 [==============================] - 1s 0us/step\n",
            "Downloading data from https://storage.googleapis.com/tensorflow/tf-keras-datasets/t10k-labels-idx1-ubyte.gz\n",
            "16384/5148 [===============================================================================================] - 0s 0us/step\n",
            "Downloading data from https://storage.googleapis.com/tensorflow/tf-keras-datasets/t10k-images-idx3-ubyte.gz\n",
            "4423680/4422102 [==============================] - 0s 0us/step\n",
            "4431872/4422102 [==============================] - 0s 0us/step\n"
          ]
        }
      ]
    },
    {
      "cell_type": "code",
      "metadata": {
        "id": "TB3Gsn3bzwMB",
        "outputId": "95c14afe-a4db-4b25-8dac-5842ff61d4e5",
        "colab": {
          "base_uri": "https://localhost:8080/"
        }
      },
      "source": [
        "#look at the type of data stored in one image (there is 6000 of them!)\n",
        "print(train_x.shape)\n",
        "print(train_y.shape)\n",
        "print(test_x.shape)\n",
        "print(test_y.shape)"
      ],
      "execution_count": null,
      "outputs": [
        {
          "output_type": "stream",
          "name": "stdout",
          "text": [
            "(60000, 28, 28)\n",
            "(60000,)\n",
            "(10000, 28, 28)\n",
            "(10000,)\n"
          ]
        }
      ]
    },
    {
      "cell_type": "code",
      "metadata": {
        "id": "_tFyWI-Oz0l-",
        "outputId": "fec514fa-34ef-4f6a-a74c-e00d42986936",
        "colab": {
          "base_uri": "https://localhost:8080/"
        }
      },
      "source": [
        "train_x"
      ],
      "execution_count": null,
      "outputs": [
        {
          "output_type": "execute_result",
          "data": {
            "text/plain": [
              "array([[[0, 0, 0, ..., 0, 0, 0],\n",
              "        [0, 0, 0, ..., 0, 0, 0],\n",
              "        [0, 0, 0, ..., 0, 0, 0],\n",
              "        ...,\n",
              "        [0, 0, 0, ..., 0, 0, 0],\n",
              "        [0, 0, 0, ..., 0, 0, 0],\n",
              "        [0, 0, 0, ..., 0, 0, 0]],\n",
              "\n",
              "       [[0, 0, 0, ..., 0, 0, 0],\n",
              "        [0, 0, 0, ..., 0, 0, 0],\n",
              "        [0, 0, 0, ..., 0, 0, 0],\n",
              "        ...,\n",
              "        [0, 0, 0, ..., 0, 0, 0],\n",
              "        [0, 0, 0, ..., 0, 0, 0],\n",
              "        [0, 0, 0, ..., 0, 0, 0]],\n",
              "\n",
              "       [[0, 0, 0, ..., 0, 0, 0],\n",
              "        [0, 0, 0, ..., 0, 0, 0],\n",
              "        [0, 0, 0, ..., 0, 0, 0],\n",
              "        ...,\n",
              "        [0, 0, 0, ..., 0, 0, 0],\n",
              "        [0, 0, 0, ..., 0, 0, 0],\n",
              "        [0, 0, 0, ..., 0, 0, 0]],\n",
              "\n",
              "       ...,\n",
              "\n",
              "       [[0, 0, 0, ..., 0, 0, 0],\n",
              "        [0, 0, 0, ..., 0, 0, 0],\n",
              "        [0, 0, 0, ..., 0, 0, 0],\n",
              "        ...,\n",
              "        [0, 0, 0, ..., 0, 0, 0],\n",
              "        [0, 0, 0, ..., 0, 0, 0],\n",
              "        [0, 0, 0, ..., 0, 0, 0]],\n",
              "\n",
              "       [[0, 0, 0, ..., 0, 0, 0],\n",
              "        [0, 0, 0, ..., 0, 0, 0],\n",
              "        [0, 0, 0, ..., 0, 0, 0],\n",
              "        ...,\n",
              "        [0, 0, 0, ..., 0, 0, 0],\n",
              "        [0, 0, 0, ..., 0, 0, 0],\n",
              "        [0, 0, 0, ..., 0, 0, 0]],\n",
              "\n",
              "       [[0, 0, 0, ..., 0, 0, 0],\n",
              "        [0, 0, 0, ..., 0, 0, 0],\n",
              "        [0, 0, 0, ..., 0, 0, 0],\n",
              "        ...,\n",
              "        [0, 0, 0, ..., 0, 0, 0],\n",
              "        [0, 0, 0, ..., 0, 0, 0],\n",
              "        [0, 0, 0, ..., 0, 0, 0]]], dtype=uint8)"
            ]
          },
          "metadata": {},
          "execution_count": 4
        }
      ]
    },
    {
      "cell_type": "code",
      "metadata": {
        "id": "WCyKHRrCz3W0",
        "outputId": "a4457657-43d0-4f55-f059-c79e6443a30a",
        "colab": {
          "base_uri": "https://localhost:8080/"
        }
      },
      "source": [
        "train_y"
      ],
      "execution_count": null,
      "outputs": [
        {
          "output_type": "execute_result",
          "data": {
            "text/plain": [
              "array([9, 0, 0, ..., 3, 0, 5], dtype=uint8)"
            ]
          },
          "metadata": {},
          "execution_count": 5
        }
      ]
    },
    {
      "cell_type": "code",
      "metadata": {
        "id": "X87OLQh5z9hR"
      },
      "source": [
        "\n",
        "train_x = train_x.reshape(60000,784)\n",
        "test_x = test_x.reshape(10000,784)\n",
        "train_y = keras.utils.np_utils.to_categorical(train_y,10)\n",
        "test_y = keras.utils.np_utils.to_categorical(test_y,10)"
      ],
      "execution_count": null,
      "outputs": []
    },
    {
      "cell_type": "code",
      "metadata": {
        "id": "Bd3-j72T0Cws",
        "outputId": "eb9df8c1-4315-48d0-82f6-5d4d7e0a7a61",
        "colab": {
          "base_uri": "https://localhost:8080/"
        }
      },
      "source": [
        "#view the content of one reshaped image. How is it different from before?\n",
        "print(train_x.shape)\n",
        "test_x.shape"
      ],
      "execution_count": null,
      "outputs": [
        {
          "output_type": "stream",
          "name": "stdout",
          "text": [
            "(60000, 784)\n"
          ]
        },
        {
          "output_type": "execute_result",
          "data": {
            "text/plain": [
              "(10000, 784)"
            ]
          },
          "metadata": {},
          "execution_count": 7
        }
      ]
    },
    {
      "cell_type": "code",
      "metadata": {
        "id": "csZe5oqc0DYb",
        "outputId": "58505b33-f85e-4cea-f4ff-8df47f98ae63",
        "colab": {
          "base_uri": "https://localhost:8080/"
        }
      },
      "source": [
        "model=Sequential()\n",
        "model.add(Dense(units=128, activation=\"relu\", input_shape=(784,))) #first layer\n",
        "model.add(Dense(units=128, activation=\"relu\")) #second layer\n",
        "model.add(Dense(units=128, activation=\"relu\")) #third layer\n",
        "model.add(Dense(units=128, activation=\"relu\")) #fourth layer\n",
        "model.add(Dense(units=128, activation=\"relu\")) \n",
        "model.add(Dense(units=128, activation=\"relu\"))\n",
        "model.add(Dense(units=10, activation=\"softmax\")) #output\n",
        "model.summary() #summary"
      ],
      "execution_count": null,
      "outputs": [
        {
          "output_type": "stream",
          "name": "stdout",
          "text": [
            "Model: \"sequential\"\n",
            "_________________________________________________________________\n",
            " Layer (type)                Output Shape              Param #   \n",
            "=================================================================\n",
            " dense (Dense)               (None, 128)               100480    \n",
            "                                                                 \n",
            " dense_1 (Dense)             (None, 128)               16512     \n",
            "                                                                 \n",
            " dense_2 (Dense)             (None, 128)               16512     \n",
            "                                                                 \n",
            " dense_3 (Dense)             (None, 128)               16512     \n",
            "                                                                 \n",
            " dense_4 (Dense)             (None, 128)               16512     \n",
            "                                                                 \n",
            " dense_5 (Dense)             (None, 128)               16512     \n",
            "                                                                 \n",
            " dense_6 (Dense)             (None, 10)                1290      \n",
            "                                                                 \n",
            "=================================================================\n",
            "Total params: 184,330\n",
            "Trainable params: 184,330\n",
            "Non-trainable params: 0\n",
            "_________________________________________________________________\n"
          ]
        }
      ]
    },
    {
      "cell_type": "code",
      "metadata": {
        "id": "rotfre0J0Js6"
      },
      "source": [
        "model.compile(optimizer=SGD(0.001), loss=\"categorical_crossentropy\",metrics=[\"acc\"] )"
      ],
      "execution_count": null,
      "outputs": []
    },
    {
      "cell_type": "code",
      "metadata": {
        "id": "xWOyNkY60PhA",
        "outputId": "78fd6699-167e-474e-c9b1-49dbd3953120",
        "colab": {
          "base_uri": "https://localhost:8080/"
        }
      },
      "source": [
        "history=model.fit(train_x, train_y, batch_size=48, epochs=80, verbose=1)"
      ],
      "execution_count": null,
      "outputs": [
        {
          "output_type": "stream",
          "name": "stdout",
          "text": [
            "Epoch 1/80\n",
            "1250/1250 [==============================] - 10s 7ms/step - loss: 0.8586 - acc: 0.7403\n",
            "Epoch 2/80\n",
            "1250/1250 [==============================] - 7s 5ms/step - loss: 0.5233 - acc: 0.8141\n",
            "Epoch 3/80\n",
            "1250/1250 [==============================] - 5s 4ms/step - loss: 0.4646 - acc: 0.8325\n",
            "Epoch 4/80\n",
            "1250/1250 [==============================] - 5s 4ms/step - loss: 0.4294 - acc: 0.8446\n",
            "Epoch 5/80\n",
            "1250/1250 [==============================] - 4s 4ms/step - loss: 0.4061 - acc: 0.8522\n",
            "Epoch 6/80\n",
            "1250/1250 [==============================] - 4s 4ms/step - loss: 0.3876 - acc: 0.8591\n",
            "Epoch 7/80\n",
            "1250/1250 [==============================] - 4s 4ms/step - loss: 0.3711 - acc: 0.8639\n",
            "Epoch 8/80\n",
            "1250/1250 [==============================] - 4s 3ms/step - loss: 0.3580 - acc: 0.8682\n",
            "Epoch 9/80\n",
            "1250/1250 [==============================] - 4s 4ms/step - loss: 0.3459 - acc: 0.8729\n",
            "Epoch 10/80\n",
            "1250/1250 [==============================] - 4s 4ms/step - loss: 0.3361 - acc: 0.8759\n",
            "Epoch 11/80\n",
            "1250/1250 [==============================] - 4s 4ms/step - loss: 0.3270 - acc: 0.8800\n",
            "Epoch 12/80\n",
            "1250/1250 [==============================] - 4s 3ms/step - loss: 0.3194 - acc: 0.8825\n",
            "Epoch 13/80\n",
            "1250/1250 [==============================] - 4s 4ms/step - loss: 0.3115 - acc: 0.8853\n",
            "Epoch 14/80\n",
            "1250/1250 [==============================] - 5s 4ms/step - loss: 0.3033 - acc: 0.8869\n",
            "Epoch 15/80\n",
            "1250/1250 [==============================] - 5s 4ms/step - loss: 0.2974 - acc: 0.8905\n",
            "Epoch 16/80\n",
            "1250/1250 [==============================] - 5s 4ms/step - loss: 0.2905 - acc: 0.8936\n",
            "Epoch 17/80\n",
            "1250/1250 [==============================] - 5s 4ms/step - loss: 0.2850 - acc: 0.8946\n",
            "Epoch 18/80\n",
            "1250/1250 [==============================] - 5s 4ms/step - loss: 0.2790 - acc: 0.8967\n",
            "Epoch 19/80\n",
            "1250/1250 [==============================] - 4s 4ms/step - loss: 0.2732 - acc: 0.8988\n",
            "Epoch 20/80\n",
            "1250/1250 [==============================] - 4s 4ms/step - loss: 0.2686 - acc: 0.9000\n",
            "Epoch 21/80\n",
            "1250/1250 [==============================] - 5s 4ms/step - loss: 0.2635 - acc: 0.9022\n",
            "Epoch 22/80\n",
            "1250/1250 [==============================] - 7s 5ms/step - loss: 0.2581 - acc: 0.9042\n",
            "Epoch 23/80\n",
            "1250/1250 [==============================] - 5s 4ms/step - loss: 0.2539 - acc: 0.9057\n",
            "Epoch 24/80\n",
            "1250/1250 [==============================] - 5s 4ms/step - loss: 0.2504 - acc: 0.9072\n",
            "Epoch 25/80\n",
            "1250/1250 [==============================] - 5s 4ms/step - loss: 0.2453 - acc: 0.9101\n",
            "Epoch 26/80\n",
            "1250/1250 [==============================] - 5s 4ms/step - loss: 0.2425 - acc: 0.9101\n",
            "Epoch 27/80\n",
            "1250/1250 [==============================] - 5s 4ms/step - loss: 0.2385 - acc: 0.9112\n",
            "Epoch 28/80\n",
            "1250/1250 [==============================] - 4s 3ms/step - loss: 0.2349 - acc: 0.9131\n",
            "Epoch 29/80\n",
            "1250/1250 [==============================] - 4s 3ms/step - loss: 0.2307 - acc: 0.9140\n",
            "Epoch 30/80\n",
            "1250/1250 [==============================] - 4s 3ms/step - loss: 0.2276 - acc: 0.9164\n",
            "Epoch 31/80\n",
            "1250/1250 [==============================] - 4s 3ms/step - loss: 0.2242 - acc: 0.9171\n",
            "Epoch 32/80\n",
            "1250/1250 [==============================] - 4s 4ms/step - loss: 0.2207 - acc: 0.9176\n",
            "Epoch 33/80\n",
            "1250/1250 [==============================] - 5s 4ms/step - loss: 0.2165 - acc: 0.9210\n",
            "Epoch 34/80\n",
            "1250/1250 [==============================] - 5s 4ms/step - loss: 0.2141 - acc: 0.9207\n",
            "Epoch 35/80\n",
            "1250/1250 [==============================] - 5s 4ms/step - loss: 0.2113 - acc: 0.9217\n",
            "Epoch 36/80\n",
            "1250/1250 [==============================] - 5s 4ms/step - loss: 0.2070 - acc: 0.9237\n",
            "Epoch 37/80\n",
            "1250/1250 [==============================] - 5s 4ms/step - loss: 0.2051 - acc: 0.9237\n",
            "Epoch 38/80\n",
            "1250/1250 [==============================] - 5s 4ms/step - loss: 0.2017 - acc: 0.9265\n",
            "Epoch 39/80\n",
            "1250/1250 [==============================] - 5s 4ms/step - loss: 0.1992 - acc: 0.9275\n",
            "Epoch 40/80\n",
            "1250/1250 [==============================] - 5s 4ms/step - loss: 0.1953 - acc: 0.9273\n",
            "Epoch 41/80\n",
            "1250/1250 [==============================] - 5s 4ms/step - loss: 0.1939 - acc: 0.9279\n",
            "Epoch 42/80\n",
            "1250/1250 [==============================] - 5s 4ms/step - loss: 0.1909 - acc: 0.9299\n",
            "Epoch 43/80\n",
            "1250/1250 [==============================] - 5s 4ms/step - loss: 0.1883 - acc: 0.9303\n",
            "Epoch 44/80\n",
            "1250/1250 [==============================] - 5s 4ms/step - loss: 0.1860 - acc: 0.9315\n",
            "Epoch 45/80\n",
            "1250/1250 [==============================] - 5s 4ms/step - loss: 0.1830 - acc: 0.9324\n",
            "Epoch 46/80\n",
            "1250/1250 [==============================] - 5s 4ms/step - loss: 0.1804 - acc: 0.9337\n",
            "Epoch 47/80\n",
            "1250/1250 [==============================] - 5s 4ms/step - loss: 0.1784 - acc: 0.9356\n",
            "Epoch 48/80\n",
            "1250/1250 [==============================] - 5s 4ms/step - loss: 0.1761 - acc: 0.9348\n",
            "Epoch 49/80\n",
            "1250/1250 [==============================] - 5s 4ms/step - loss: 0.1731 - acc: 0.9362\n",
            "Epoch 50/80\n",
            "1250/1250 [==============================] - 5s 4ms/step - loss: 0.1717 - acc: 0.9380\n",
            "Epoch 51/80\n",
            "1250/1250 [==============================] - 5s 4ms/step - loss: 0.1677 - acc: 0.9385\n",
            "Epoch 52/80\n",
            "1250/1250 [==============================] - 5s 4ms/step - loss: 0.1664 - acc: 0.9393\n",
            "Epoch 53/80\n",
            "1250/1250 [==============================] - 5s 4ms/step - loss: 0.1637 - acc: 0.9402\n",
            "Epoch 54/80\n",
            "1250/1250 [==============================] - 4s 4ms/step - loss: 0.1624 - acc: 0.9406\n",
            "Epoch 55/80\n",
            "1250/1250 [==============================] - 5s 4ms/step - loss: 0.1611 - acc: 0.9413\n",
            "Epoch 56/80\n",
            "1250/1250 [==============================] - 5s 4ms/step - loss: 0.1582 - acc: 0.9421\n",
            "Epoch 57/80\n",
            "1250/1250 [==============================] - 5s 4ms/step - loss: 0.1564 - acc: 0.9425\n",
            "Epoch 58/80\n",
            "1250/1250 [==============================] - 5s 4ms/step - loss: 0.1545 - acc: 0.9446\n",
            "Epoch 59/80\n",
            "1250/1250 [==============================] - 5s 4ms/step - loss: 0.1522 - acc: 0.9449\n",
            "Epoch 60/80\n",
            "1250/1250 [==============================] - 5s 4ms/step - loss: 0.1495 - acc: 0.9459\n",
            "Epoch 61/80\n",
            "1250/1250 [==============================] - 5s 4ms/step - loss: 0.1472 - acc: 0.9465\n",
            "Epoch 62/80\n",
            "1250/1250 [==============================] - 5s 4ms/step - loss: 0.1472 - acc: 0.9466\n",
            "Epoch 63/80\n",
            "1250/1250 [==============================] - 5s 4ms/step - loss: 0.1427 - acc: 0.9481\n",
            "Epoch 64/80\n",
            "1250/1250 [==============================] - 5s 4ms/step - loss: 0.1431 - acc: 0.9472\n",
            "Epoch 65/80\n",
            "1250/1250 [==============================] - 5s 4ms/step - loss: 0.1404 - acc: 0.9493\n",
            "Epoch 66/80\n",
            "1250/1250 [==============================] - 5s 4ms/step - loss: 0.1379 - acc: 0.9499\n",
            "Epoch 67/80\n",
            "1250/1250 [==============================] - 5s 4ms/step - loss: 0.1362 - acc: 0.9511\n",
            "Epoch 68/80\n",
            "1250/1250 [==============================] - 5s 4ms/step - loss: 0.1343 - acc: 0.9517\n",
            "Epoch 69/80\n",
            "1250/1250 [==============================] - 5s 4ms/step - loss: 0.1358 - acc: 0.9499\n",
            "Epoch 70/80\n",
            "1250/1250 [==============================] - 5s 4ms/step - loss: 0.1321 - acc: 0.9524\n",
            "Epoch 71/80\n",
            "1250/1250 [==============================] - 5s 4ms/step - loss: 0.1286 - acc: 0.9542\n",
            "Epoch 72/80\n",
            "1250/1250 [==============================] - 5s 4ms/step - loss: 0.1280 - acc: 0.9536\n",
            "Epoch 73/80\n",
            "1250/1250 [==============================] - 5s 4ms/step - loss: 0.1257 - acc: 0.9548\n",
            "Epoch 74/80\n",
            "1250/1250 [==============================] - 5s 4ms/step - loss: 0.1249 - acc: 0.9546\n",
            "Epoch 75/80\n",
            "1250/1250 [==============================] - 5s 4ms/step - loss: 0.1235 - acc: 0.9559\n",
            "Epoch 76/80\n",
            "1250/1250 [==============================] - 5s 4ms/step - loss: 0.1221 - acc: 0.9557\n",
            "Epoch 77/80\n",
            "1250/1250 [==============================] - 5s 4ms/step - loss: 0.1210 - acc: 0.9560\n",
            "Epoch 78/80\n",
            "1250/1250 [==============================] - 5s 4ms/step - loss: 0.1187 - acc: 0.9565\n",
            "Epoch 79/80\n",
            "1250/1250 [==============================] - 5s 4ms/step - loss: 0.1149 - acc: 0.9589\n",
            "Epoch 80/80\n",
            "1250/1250 [==============================] - 5s 4ms/step - loss: 0.1146 - acc: 0.9589\n"
          ]
        }
      ]
    },
    {
      "cell_type": "code",
      "metadata": {
        "id": "OkjxVF8t0UGM"
      },
      "source": [
        "model.save(\"fashionmnistmodel.h5\")"
      ],
      "execution_count": null,
      "outputs": []
    },
    {
      "cell_type": "code",
      "metadata": {
        "id": "k9pplSp_0cFj",
        "colab": {
          "base_uri": "https://localhost:8080/"
        },
        "outputId": "a14f039b-f494-4083-a3cd-a71df8a9cb36"
      },
      "source": [
        "accuracy=model.evaluate(x=test_x, y=test_y, batch_size=32)\n",
        "print(\"Accuracy: \" + str(accuracy[1]))"
      ],
      "execution_count": null,
      "outputs": [
        {
          "output_type": "stream",
          "name": "stdout",
          "text": [
            "313/313 [==============================] - 1s 2ms/step - loss: 0.5355 - acc: 0.8638\n",
            "Accuracy: 0.8637999892234802\n"
          ]
        }
      ]
    },
    {
      "cell_type": "code",
      "metadata": {
        "id": "iZWavK5t0fPC",
        "colab": {
          "base_uri": "https://localhost:8080/",
          "height": 312
        },
        "outputId": "d1edaf44-cc59-4742-a5b2-282330a02fd5"
      },
      "source": [
        "plt.plot(history.history[\"acc\"])\n",
        "plt.title('model.accuracy')\n",
        "plt.ylabel(\"accuracy\")\n",
        "plt.xlabel(\"epoch\")\n",
        "plt.legend([\"train\"], loc=\"upper left\")\n",
        "plt.show"
      ],
      "execution_count": null,
      "outputs": [
        {
          "output_type": "execute_result",
          "data": {
            "text/plain": [
              "<function matplotlib.pyplot.show>"
            ]
          },
          "metadata": {},
          "execution_count": 13
        },
        {
          "output_type": "display_data",
          "data": {
            "image/png": "[encoded data removed]",
            "text/plain": [
              "<Figure size 432x288 with 1 Axes>"
            ]
          },
          "metadata": {
            "needs_background": "light"
          }
        }
      ]
    },
    {
      "cell_type": "code",
      "metadata": {
        "id": "TFvmWbYC0iOP",
        "colab": {
          "base_uri": "https://localhost:8080/"
        },
        "outputId": "086438c0-d9d9-42ca-a87e-39e54e1ba9ff"
      },
      "source": [
        "sample=test_x[np.random.randint(1, 10000)]\n",
        "sample=sample.reshape((28, 28))\n",
        "plt.imshow(sample)"
      ],
      "execution_count": null,
      "outputs": [
        {
          "output_type": "execute_result",
          "data": {
            "text/plain": [
              "<matplotlib.image.AxesImage at 0x7f93b949d410>"
            ]
          },
          "metadata": {},
          "execution_count": 14
        },
        {
          "output_type": "display_data",
          "data": {
            "image/png": "[encoded data removed]",
            "text/plain": [
              "<Figure size 432x288 with 1 Axes>"
            ]
          },
          "metadata": {
            "needs_background": "light"
          }
        }
      ]
    },
    {
      "cell_type": "code",
      "metadata": {
        "id": "MO_HL9nq0nQM",
        "colab": {
          "base_uri": "https://localhost:8080/"
        },
        "outputId": "ac2841fe-c270-4f44-dd0a-79d265d81fc0"
      },
      "source": [
        "sample=sample.reshape(1,784)\n",
        "predict_x=model.predict(sample) \n",
        "classes_x=np.argmax(predict_x,axis=1)\n",
        "def name(x):\n",
        "    title={\n",
        "        0:\"Tshirt/Top\",\n",
        "        1:\"Trouser\",\n",
        "        2:\"Pullover\",\n",
        "        3:\"Dress\",\n",
        "        4:\"Coat\",\n",
        "        5:\"Sandals\",\n",
        "        6:'Shirt',\n",
        "        7:\"Sneaker\",\n",
        "        8:\"Bag\",\n",
        "        9:\"Ankle Boot\",\n",
        "    }\n",
        "    print(title[x])\n",
        "name(int(classes_x))"
      ],
      "execution_count": null,
      "outputs": [
        {
          "output_type": "stream",
          "name": "stdout",
          "text": [
            "Sandals\n"
          ]
        }
      ]
    },
    {
      "cell_type": "code",
      "metadata": {
        "id": "uyyBkMuQP2t5"
      },
      "source": [
        ""
      ],
      "execution_count": null,
      "outputs": []
    }
  ]
}